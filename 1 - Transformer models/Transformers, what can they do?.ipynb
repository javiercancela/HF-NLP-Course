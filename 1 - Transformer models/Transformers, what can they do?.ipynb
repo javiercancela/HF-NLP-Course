{
 "cells": [
  {
   "cell_type": "markdown",
   "id": "7f45c094-c420-4126-84db-f72ac2d139a1",
   "metadata": {
    "tags": []
   },
   "source": [
    "# First code\n",
    "We just use the [pipeline](https://huggingface.co/docs/transformers/v4.30.0/en/main_classes/pipelines#transformers.pipeline) object to classify a text as possitive or negative.\n",
    "There is a message warning that it will use a default model: [distilbert-base-uncased-finetuned-sst-2-english](https://huggingface.co/distilbert-base-uncased-finetuned-sst-2-english)"
   ]
  },
  {
   "cell_type": "code",
   "execution_count": 14,
   "id": "eeff4000-2b81-4628-9af7-96acd01f93f1",
   "metadata": {},
   "outputs": [
    {
     "name": "stderr",
     "output_type": "stream",
     "text": [
      "No model was supplied, defaulted to distilbert-base-uncased-finetuned-sst-2-english and revision af0f99b (https://huggingface.co/distilbert-base-uncased-finetuned-sst-2-english).\n",
      "Using a pipeline without specifying a model name and revision in production is not recommended.\n"
     ]
    },
    {
     "data": {
      "text/plain": [
       "[{'label': 'POSITIVE', 'score': 0.9598048329353333}]"
      ]
     },
     "execution_count": 14,
     "metadata": {},
     "output_type": "execute_result"
    }
   ],
   "source": [
    "from transformers import pipeline\n",
    "\n",
    "classifier = pipeline(\"sentiment-analysis\")\n",
    "classifier(\"I've been waiting for a HuggingFace course my whole life.\")"
   ]
  },
  {
   "cell_type": "markdown",
   "id": "d69f319a-07b0-4867-9db2-026abdfccb9a",
   "metadata": {},
   "source": [
    "## Different, more difficult text\n",
    "This one seems too difficult. The sentiment is not negative, but might be a little ambiguous. "
   ]
  },
  {
   "cell_type": "code",
   "execution_count": 15,
   "id": "3ec8e861-544b-4a64-9f0f-971231d4885d",
   "metadata": {},
   "outputs": [
    {
     "name": "stderr",
     "output_type": "stream",
     "text": [
      "No model was supplied, defaulted to distilbert-base-uncased-finetuned-sst-2-english and revision af0f99b (https://huggingface.co/distilbert-base-uncased-finetuned-sst-2-english).\n",
      "Using a pipeline without specifying a model name and revision in production is not recommended.\n"
     ]
    },
    {
     "data": {
      "text/plain": [
       "[{'label': 'NEGATIVE', 'score': 0.9988917708396912}]"
      ]
     },
     "execution_count": 15,
     "metadata": {},
     "output_type": "execute_result"
    }
   ],
   "source": [
    "classifier = pipeline(\"sentiment-analysis\")\n",
    "classifier(\"I would say this is bad, but I would be lying\")"
   ]
  },
  {
   "cell_type": "markdown",
   "id": "3da26bfb-1cca-46c2-b93d-4bf6b4380b7c",
   "metadata": {},
   "source": [
    "## Different model\n",
    "A different model seems to perform slightly better, but not enough"
   ]
  },
  {
   "cell_type": "code",
   "execution_count": 16,
   "id": "6623e243-b425-4a49-b41f-8ead8379d20e",
   "metadata": {},
   "outputs": [
    {
     "name": "stderr",
     "output_type": "stream",
     "text": [
      "Downloading: 100%|██████████| 2.55k/2.55k [00:00<00:00, 463kB/s]\n"
     ]
    },
    {
     "data": {
      "text/plain": [
       "[{'label': 'negative', 'score': 0.7322509288787842}]"
      ]
     },
     "execution_count": 16,
     "metadata": {},
     "output_type": "execute_result"
    }
   ],
   "source": [
    "classifier = pipeline(model=\"ProsusAI/finbert\")\n",
    "classifier(\"I would say this is bad, but I would be lying\")"
   ]
  },
  {
   "cell_type": "markdown",
   "id": "25d24fa8-de42-4b0a-b567-db542def6f4b",
   "metadata": {},
   "source": [
    "## Test with multiple entries\n",
    "Finbert does not work very well here"
   ]
  },
  {
   "cell_type": "code",
   "execution_count": 19,
   "id": "f66aa714-53b7-4a17-babd-33e31439e649",
   "metadata": {},
   "outputs": [
    {
     "name": "stderr",
     "output_type": "stream",
     "text": [
      "No model was supplied, defaulted to distilbert-base-uncased-finetuned-sst-2-english and revision af0f99b (https://huggingface.co/distilbert-base-uncased-finetuned-sst-2-english).\n",
      "Using a pipeline without specifying a model name and revision in production is not recommended.\n"
     ]
    },
    {
     "data": {
      "text/plain": [
       "[{'label': 'NEGATIVE', 'score': 0.6937301158905029},\n",
       " {'label': 'POSITIVE', 'score': 0.9998584985733032}]"
      ]
     },
     "execution_count": 19,
     "metadata": {},
     "output_type": "execute_result"
    }
   ],
   "source": [
    "classifier1 = pipeline(\"sentiment-analysis\")\n",
    "classifier1([\"This give me the creeps\", \"This is cool\"])"
   ]
  },
  {
   "cell_type": "code",
   "execution_count": 20,
   "id": "f75a6ddc-fa59-44e1-b6e1-e50fc1346560",
   "metadata": {},
   "outputs": [
    {
     "name": "stderr",
     "output_type": "stream",
     "text": [
      "Downloading: 100%|██████████| 2.55k/2.55k [00:00<00:00, 923kB/s]\n"
     ]
    },
    {
     "data": {
      "text/plain": [
       "[{'label': 'neutral', 'score': 0.7400815486907959},\n",
       " {'label': 'neutral', 'score': 0.8911979794502258}]"
      ]
     },
     "execution_count": 20,
     "metadata": {},
     "output_type": "execute_result"
    }
   ],
   "source": [
    "classifier2 = pipeline(model=\"ProsusAI/finbert\")\n",
    "classifier2([\"This give me the creeps\", \"This is cool\"])"
   ]
  },
  {
   "cell_type": "markdown",
   "id": "4f763889-9454-48f9-b9cc-f1ee78455989",
   "metadata": {},
   "source": [
    "# Zero-shot classification"
   ]
  }
 ],
 "metadata": {
  "kernelspec": {
   "display_name": "Python 3 (ipykernel)",
   "language": "python",
   "name": "python3"
  },
  "language_info": {
   "codemirror_mode": {
    "name": "ipython",
    "version": 3
   },
   "file_extension": ".py",
   "mimetype": "text/x-python",
   "name": "python",
   "nbconvert_exporter": "python",
   "pygments_lexer": "ipython3",
   "version": "3.10.9"
  }
 },
 "nbformat": 4,
 "nbformat_minor": 5
}
