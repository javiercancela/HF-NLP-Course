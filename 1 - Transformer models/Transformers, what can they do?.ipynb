{
 "cells": [
  {
   "cell_type": "markdown",
   "id": "7f45c094-c420-4126-84db-f72ac2d139a1",
   "metadata": {
    "tags": []
   },
   "source": [
    "# First code\n",
    "We just use the [pipeline](https://huggingface.co/docs/transformers/v4.30.0/en/main_classes/pipelines#transformers.pipeline) object to classify a text as possitive or negative.\n",
    "There is a message warning that it will use a default model: [distilbert-base-uncased-finetuned-sst-2-english](https://huggingface.co/distilbert-base-uncased-finetuned-sst-2-english)"
   ]
  },
  {
   "cell_type": "code",
   "execution_count": 3,
   "id": "eeff4000-2b81-4628-9af7-96acd01f93f1",
   "metadata": {},
   "outputs": [
    {
     "name": "stderr",
     "output_type": "stream",
     "text": [
      "/Users/javier.cancela/anaconda3/envs/python39/lib/python3.9/site-packages/tqdm/auto.py:21: TqdmWarning: IProgress not found. Please update jupyter and ipywidgets. See https://ipywidgets.readthedocs.io/en/stable/user_install.html\n",
      "  from .autonotebook import tqdm as notebook_tqdm\n",
      "No model was supplied, defaulted to distilbert-base-uncased-finetuned-sst-2-english and revision af0f99b (https://huggingface.co/distilbert-base-uncased-finetuned-sst-2-english).\n",
      "Using a pipeline without specifying a model name and revision in production is not recommended.\n",
      "Xformers is not installed correctly. If you want to use memorry_efficient_attention to accelerate training use the following command to install Xformers\n",
      "pip install xformers.\n"
     ]
    },
    {
     "data": {
      "text/plain": [
       "[{'label': 'POSITIVE', 'score': 0.9598048329353333}]"
      ]
     },
     "execution_count": 3,
     "metadata": {},
     "output_type": "execute_result"
    }
   ],
   "source": [
    "from transformers import pipeline\n",
    "\n",
    "classifier = pipeline(\"sentiment-analysis\")\n",
    "classifier(\"I've been waiting for a HuggingFace course my whole life.\")"
   ]
  },
  {
   "cell_type": "markdown",
   "id": "d69f319a-07b0-4867-9db2-026abdfccb9a",
   "metadata": {},
   "source": [
    "## Different, more difficult text\n",
    "This one seems too difficult. The sentiment is not negative, but might be a little ambiguous. "
   ]
  },
  {
   "cell_type": "code",
   "execution_count": 4,
   "id": "3ec8e861-544b-4a64-9f0f-971231d4885d",
   "metadata": {},
   "outputs": [
    {
     "name": "stderr",
     "output_type": "stream",
     "text": [
      "No model was supplied, defaulted to distilbert-base-uncased-finetuned-sst-2-english and revision af0f99b (https://huggingface.co/distilbert-base-uncased-finetuned-sst-2-english).\n",
      "Using a pipeline without specifying a model name and revision in production is not recommended.\n"
     ]
    },
    {
     "data": {
      "text/plain": [
       "[{'label': 'NEGATIVE', 'score': 0.9988917708396912}]"
      ]
     },
     "execution_count": 4,
     "metadata": {},
     "output_type": "execute_result"
    }
   ],
   "source": [
    "classifier = pipeline(\"sentiment-analysis\")\n",
    "classifier(\"I would say this is bad, but I would be lying\")"
   ]
  },
  {
   "cell_type": "markdown",
   "id": "3da26bfb-1cca-46c2-b93d-4bf6b4380b7c",
   "metadata": {},
   "source": [
    "## Different model\n",
    "A different model seems to perform slightly better, but not enough. By the way, each model has to be downloaded locally, and they can take up to a few GBs."
   ]
  },
  {
   "cell_type": "code",
   "execution_count": 5,
   "id": "6623e243-b425-4a49-b41f-8ead8379d20e",
   "metadata": {},
   "outputs": [
    {
     "data": {
      "text/plain": [
       "[{'label': 'negative', 'score': 0.732250452041626}]"
      ]
     },
     "execution_count": 5,
     "metadata": {},
     "output_type": "execute_result"
    }
   ],
   "source": [
    "classifier = pipeline(model=\"ProsusAI/finbert\")\n",
    "classifier(\"I would say this is bad, but I would be lying\")"
   ]
  },
  {
   "cell_type": "markdown",
   "id": "25d24fa8-de42-4b0a-b567-db542def6f4b",
   "metadata": {},
   "source": [
    "## Test with multiple entries\n",
    "Finbert does not work very well here"
   ]
  },
  {
   "cell_type": "code",
   "execution_count": 6,
   "id": "f66aa714-53b7-4a17-babd-33e31439e649",
   "metadata": {},
   "outputs": [
    {
     "name": "stderr",
     "output_type": "stream",
     "text": [
      "No model was supplied, defaulted to distilbert-base-uncased-finetuned-sst-2-english and revision af0f99b (https://huggingface.co/distilbert-base-uncased-finetuned-sst-2-english).\n",
      "Using a pipeline without specifying a model name and revision in production is not recommended.\n"
     ]
    },
    {
     "data": {
      "text/plain": [
       "[{'label': 'NEGATIVE', 'score': 0.6937296986579895},\n",
       " {'label': 'POSITIVE', 'score': 0.9998584985733032}]"
      ]
     },
     "execution_count": 6,
     "metadata": {},
     "output_type": "execute_result"
    }
   ],
   "source": [
    "classifier1 = pipeline(\"sentiment-analysis\")\n",
    "classifier1([\"This give me the creeps\", \"This is cool\"])"
   ]
  },
  {
   "cell_type": "code",
   "execution_count": 7,
   "id": "f75a6ddc-fa59-44e1-b6e1-e50fc1346560",
   "metadata": {},
   "outputs": [
    {
     "data": {
      "text/plain": [
       "[{'label': 'neutral', 'score': 0.7400820255279541},\n",
       " {'label': 'neutral', 'score': 0.8911979794502258}]"
      ]
     },
     "execution_count": 7,
     "metadata": {},
     "output_type": "execute_result"
    }
   ],
   "source": [
    "classifier2 = pipeline(model=\"ProsusAI/finbert\")\n",
    "classifier2([\"This give me the creeps\", \"This is cool\"])"
   ]
  },
  {
   "cell_type": "markdown",
   "id": "4f763889-9454-48f9-b9cc-f1ee78455989",
   "metadata": {},
   "source": [
    "# Zero-shot classification\n",
    "In zero-shot classification, we try to identify class members absent in the training phase. We can do that by having semantic descriptions of such classes or having similar classes contiguous in a given space and then predicting the position in the space for a given sample."
   ]
  },
  {
   "cell_type": "code",
   "execution_count": 8,
   "id": "d55c1b1d-f3d8-4260-abef-687d940cf1aa",
   "metadata": {},
   "outputs": [
    {
     "name": "stderr",
     "output_type": "stream",
     "text": [
      "No model was supplied, defaulted to facebook/bart-large-mnli and revision c626438 (https://huggingface.co/facebook/bart-large-mnli).\n",
      "Using a pipeline without specifying a model name and revision in production is not recommended.\n"
     ]
    },
    {
     "data": {
      "text/plain": [
       "{'sequence': 'This is a course about the Transformers library',\n",
       " 'labels': ['education', 'business', 'politics'],\n",
       " 'scores': [0.8445948958396912, 0.11197726428508759, 0.04342782497406006]}"
      ]
     },
     "execution_count": 8,
     "metadata": {},
     "output_type": "execute_result"
    }
   ],
   "source": [
    "from transformers import pipeline\n",
    "\n",
    "classifier = pipeline(\"zero-shot-classification\")\n",
    "classifier(\n",
    "    \"This is a course about the Transformers library\",\n",
    "    candidate_labels=[\"education\", \"politics\", \"business\"],\n",
    ")"
   ]
  },
  {
   "cell_type": "markdown",
   "id": "51cff9d1-b00b-4f44-82ae-8181aa15f5b8",
   "metadata": {},
   "source": [
    "A different example, not from the course:"
   ]
  },
  {
   "cell_type": "code",
   "execution_count": 9,
   "id": "96cffbce-f8a8-4d8c-b932-6b2f77271ebe",
   "metadata": {},
   "outputs": [
    {
     "name": "stderr",
     "output_type": "stream",
     "text": [
      "No model was supplied, defaulted to facebook/bart-large-mnli and revision c626438 (https://huggingface.co/facebook/bart-large-mnli).\n",
      "Using a pipeline without specifying a model name and revision in production is not recommended.\n"
     ]
    },
    {
     "data": {
      "text/plain": [
       "{'sequence': 'Real Madrid looks for a new striker while refinancing its debt',\n",
       " 'labels': ['sports', 'new', 'economics', 'politics', 'science'],\n",
       " 'scores': [0.45118024945259094,\n",
       "  0.35979989171028137,\n",
       "  0.1286756545305252,\n",
       "  0.040009330958127975,\n",
       "  0.020334886386990547]}"
      ]
     },
     "execution_count": 9,
     "metadata": {},
     "output_type": "execute_result"
    }
   ],
   "source": [
    "from transformers import pipeline\n",
    "\n",
    "classifier = pipeline(\"zero-shot-classification\")\n",
    "classifier(\n",
    "    \"Real Madrid looks for a new striker while refinancing its debt\",\n",
    "    candidate_labels=[\"sports\", \"new\", \"economics\", \"politics\", \"science\"],\n",
    ")"
   ]
  },
  {
   "cell_type": "markdown",
   "id": "62d3c3f6-9543-42d6-8e78-8114883063eb",
   "metadata": {},
   "source": [
    "As always, we can change models, selecting one for the right pipeline in the Models page. For example, for the zero-shot-classification we have these: https://huggingface.co/models?pipeline_tag=zero-shot-classification&sort=trending.\n",
    "\n",
    "Also, you can create a space to run all these examples (a little slow, but it works.)"
   ]
  },
  {
   "cell_type": "markdown",
   "id": "61d1c681-bc13-424b-9a39-f6aa98b4e53b",
   "metadata": {},
   "source": [
    "# Mask filling\n",
    "Fills a void in a text. Pretty straightforward."
   ]
  },
  {
   "cell_type": "code",
   "execution_count": 10,
   "id": "c8ef166e-7f2a-42d6-a303-b460084419ea",
   "metadata": {},
   "outputs": [
    {
     "name": "stderr",
     "output_type": "stream",
     "text": [
      "No model was supplied, defaulted to distilroberta-base and revision ec58a5b (https://huggingface.co/distilroberta-base).\n",
      "Using a pipeline without specifying a model name and revision in production is not recommended.\n"
     ]
    },
    {
     "data": {
      "text/plain": [
       "[{'score': 0.1961996704339981,\n",
       "  'token': 30412,\n",
       "  'token_str': ' mathematical',\n",
       "  'sequence': 'This course will teach you all about mathematical models.'},\n",
       " {'score': 0.0405273400247097,\n",
       "  'token': 38163,\n",
       "  'token_str': ' computational',\n",
       "  'sequence': 'This course will teach you all about computational models.'}]"
      ]
     },
     "execution_count": 10,
     "metadata": {},
     "output_type": "execute_result"
    }
   ],
   "source": [
    "from transformers import pipeline\n",
    "\n",
    "unmasker = pipeline(\"fill-mask\")\n",
    "unmasker(\"This course will teach you all about <mask> models.\", top_k=2)"
   ]
  },
  {
   "cell_type": "markdown",
   "id": "56e12411-510e-4ac0-ba35-172ffe7cc7f5",
   "metadata": {
    "tags": []
   },
   "source": [
    "# Named entity recognition\n",
    "Here, we look for"
   ]
  },
  {
   "cell_type": "code",
   "execution_count": 11,
   "id": "8b46e703-1555-49b7-b55a-cfd673c2835a",
   "metadata": {},
   "outputs": [
    {
     "name": "stderr",
     "output_type": "stream",
     "text": [
      "No model was supplied, defaulted to dbmdz/bert-large-cased-finetuned-conll03-english and revision f2482bf (https://huggingface.co/dbmdz/bert-large-cased-finetuned-conll03-english).\n",
      "Using a pipeline without specifying a model name and revision in production is not recommended.\n",
      "/Users/javier.cancela/anaconda3/envs/python39/lib/python3.9/site-packages/transformers/pipelines/token_classification.py:169: UserWarning: `grouped_entities` is deprecated and will be removed in version v5.0.0, defaulted to `aggregation_strategy=\"simple\"` instead.\n",
      "  warnings.warn(\n"
     ]
    },
    {
     "data": {
      "text/plain": [
       "[{'entity_group': 'PER',\n",
       "  'score': 0.9981694,\n",
       "  'word': 'Sylvain',\n",
       "  'start': 11,\n",
       "  'end': 18},\n",
       " {'entity_group': 'ORG',\n",
       "  'score': 0.9796019,\n",
       "  'word': 'Hugging Face',\n",
       "  'start': 33,\n",
       "  'end': 45},\n",
       " {'entity_group': 'LOC',\n",
       "  'score': 0.9932106,\n",
       "  'word': 'Brooklyn',\n",
       "  'start': 49,\n",
       "  'end': 57}]"
      ]
     },
     "execution_count": 11,
     "metadata": {},
     "output_type": "execute_result"
    }
   ],
   "source": [
    "from transformers import pipeline\n",
    "\n",
    "ner = pipeline(\"ner\", grouped_entities=True)\n",
    "ner(\"My name is Sylvain and I work at Hugging Face in Brooklyn.\")"
   ]
  },
  {
   "cell_type": "code",
   "execution_count": 12,
   "id": "88795a08-7b8a-4685-bf62-dac81236c829",
   "metadata": {},
   "outputs": [
    {
     "name": "stderr",
     "output_type": "stream",
     "text": [
      "No model was supplied, defaulted to dbmdz/bert-large-cased-finetuned-conll03-english and revision f2482bf (https://huggingface.co/dbmdz/bert-large-cased-finetuned-conll03-english).\n",
      "Using a pipeline without specifying a model name and revision in production is not recommended.\n"
     ]
    },
    {
     "data": {
      "text/plain": [
       "[{'entity_group': 'MISC',\n",
       "  'score': 0.9950081,\n",
       "  'word': 'MacBook Pro',\n",
       "  'start': 7,\n",
       "  'end': 18},\n",
       " {'entity_group': 'ORG',\n",
       "  'score': 0.997255,\n",
       "  'word': 'Amazon',\n",
       "  'start': 41,\n",
       "  'end': 47},\n",
       " {'entity_group': 'LOC',\n",
       "  'score': 0.95123404,\n",
       "  'word': 'A Coruña',\n",
       "  'start': 51,\n",
       "  'end': 59},\n",
       " {'entity_group': 'ORG',\n",
       "  'score': 0.743389,\n",
       "  'word': 'Joor',\n",
       "  'start': 99,\n",
       "  'end': 103}]"
      ]
     },
     "execution_count": 12,
     "metadata": {},
     "output_type": "execute_result"
    }
   ],
   "source": [
    "from transformers import pipeline\n",
    "\n",
    "ner = pipeline(\"ner\", grouped_entities=True)\n",
    "ner(\"My new MacBook Pro has been delivered by Amazon to A Coruña, so I will have a good July to work at Joor\")"
   ]
  },
  {
   "cell_type": "markdown",
   "id": "d7e30705-5103-4802-acf3-ec65d63d8639",
   "metadata": {},
   "source": [
    "This one is rather good, it correctly identifies A Coruña as a place and Joor as an org, and assign the Misc category to the MacBook Pro (there are only four categories in the default bert-large-cased-finetuned-conll03-english model: ORG, LOC, PER, and MISC)"
   ]
  },
  {
   "cell_type": "markdown",
   "id": "cd68b96f-191c-456c-936f-93f6361fa465",
   "metadata": {},
   "source": [
    "# Question answering, Summarization, and Translation\n",
    "Some self-explanatory examples"
   ]
  },
  {
   "cell_type": "code",
   "execution_count": 13,
   "id": "e9414706-7453-473b-b369-2261a2c60000",
   "metadata": {},
   "outputs": [
    {
     "name": "stderr",
     "output_type": "stream",
     "text": [
      "No model was supplied, defaulted to distilbert-base-cased-distilled-squad and revision 626af31 (https://huggingface.co/distilbert-base-cased-distilled-squad).\n",
      "Using a pipeline without specifying a model name and revision in production is not recommended.\n"
     ]
    },
    {
     "data": {
      "text/plain": [
       "{'score': 0.7346181869506836,\n",
       " 'start': 45,\n",
       " 'end': 60,\n",
       " 'answer': 'July 12th, 2023'}"
      ]
     },
     "execution_count": 13,
     "metadata": {},
     "output_type": "execute_result"
    }
   ],
   "source": [
    "from transformers import pipeline\n",
    "\n",
    "question_answerer = pipeline(\"question-answering\")\n",
    "question_answerer(\n",
    "    question=\"How old am I?\",\n",
    "    context=\"I was born in March 12th, 1973, and today is July 12th, 2023\",\n",
    ")"
   ]
  },
  {
   "cell_type": "markdown",
   "id": "f5857430-d8c8-4b23-bb89-a390b4cd9dab",
   "metadata": {},
   "source": [
    "The model can't understand the relationship between age and dates"
   ]
  },
  {
   "cell_type": "markdown",
   "id": "a65f3676-d355-444c-9403-dbd7457de72d",
   "metadata": {},
   "source": [
    "---"
   ]
  },
  {
   "cell_type": "code",
   "execution_count": 14,
   "id": "307065b4-7574-4f29-b6a1-6b4967bac7fd",
   "metadata": {},
   "outputs": [
    {
     "name": "stderr",
     "output_type": "stream",
     "text": [
      "No model was supplied, defaulted to sshleifer/distilbart-cnn-12-6 and revision a4f8f3e (https://huggingface.co/sshleifer/distilbart-cnn-12-6).\n",
      "Using a pipeline without specifying a model name and revision in production is not recommended.\n"
     ]
    },
    {
     "data": {
      "text/plain": [
       "[{'summary_text': ' \\'Shape Up\\' is a book written by Ryan Singer, the Head of Strategy at Basecamp, a software development company . The core concept in \"Shape Up\" is the idea of shaping work . Shaping involves defining boundaries and constraints, outlining the desired outcomes, and setting aside a fixed time frame called a \"six-week cycle\"'}]"
      ]
     },
     "execution_count": 14,
     "metadata": {},
     "output_type": "execute_result"
    }
   ],
   "source": [
    "from transformers import pipeline\n",
    "\n",
    "summarizer = pipeline(\"summarization\")\n",
    "summarizer(\n",
    "    \"\"\"\n",
    "    'Shape Up' is a book written by Ryan Singer, the Head of Strategy at Basecamp, a software development company. \n",
    "    The book introduces a unique approach to project management and product development that challenges conventional \n",
    "    methodologies like Scrum or Agile.\n",
    "\n",
    "    The central premise of \"Shape Up\" is that traditional methods for managing projects often lead to over-planning, \n",
    "    excessive meetings, and a lack of focus on the most critical tasks. The book suggests an alternative framework that \n",
    "    encourages a more pragmatic and efficient approach.\n",
    "\n",
    "    The core concept in \"Shape Up\" is the idea of shaping work. Shaping involves defining the boundaries and constraints \n",
    "    of a project, outlining the desired outcomes, and setting aside a fixed time frame called a \"six-week cycle.\" This \n",
    "    approach encourages teams to focus on making decisions and prioritizing the most valuable work within the given time \n",
    "    frame.\n",
    "\n",
    "    The book emphasizes the importance of providing autonomy to teams and trusts them to make responsible decisions. \n",
    "    It promotes the idea of giving teams clear problem statements and allowing them to come up with solutions independently. \n",
    "    This approach fosters creativity, ownership, and accountability among team members.\n",
    "\n",
    "    Another key aspect discussed in \"Shape Up\" is the role of the betting table. The betting table is a mechanism for \n",
    "    evaluating project proposals and deciding which ones to work on. It involves a collaboration between product managers, \n",
    "    designers, and developers to assess the feasibility and potential impact of a project before committing to it.\n",
    "\n",
    "    Throughout the book, Ryan Singer shares practical examples and real-world experiences from Basecamp, providing readers \n",
    "    with insights into how the principles of shaping work in practice. The book also delves into topics such as risk \n",
    "    management, project scoping, and effective communication within teams.\n",
    "\n",
    "    In summary, 'Shape Up' presents an alternative approach to project management that focuses on efficient decision-making, \n",
    "    autonomy for teams, and realistic time frames. It challenges traditional methodologies and offers a practical framework \n",
    "    for delivering high-quality work within fixed cycles.\n",
    "\"\"\"\n",
    ")"
   ]
  },
  {
   "cell_type": "markdown",
   "id": "a39a2d85-556d-44dc-9279-55ea43feb0a4",
   "metadata": {},
   "source": [
    "This one is not bad"
   ]
  },
  {
   "cell_type": "markdown",
   "id": "ed8869c5-2c3c-407e-b1ba-b0611e8437cc",
   "metadata": {},
   "source": [
    "---"
   ]
  },
  {
   "cell_type": "code",
   "execution_count": 2,
   "id": "380cb922-5b25-471b-81b8-2517c283f030",
   "metadata": {},
   "outputs": [
    {
     "data": {
      "text/plain": [
       "[{'translation_text': \"I'm really cool with the east course of Hugging Face.\"}]"
      ]
     },
     "execution_count": 2,
     "metadata": {},
     "output_type": "execute_result"
    }
   ],
   "source": [
    "from transformers import pipeline\n",
    "\n",
    "translator = pipeline(\"translation\", model=\"Helsinki-NLP/opus-mt-es-en\")\n",
    "translator(\"Me mola mucho el curso este de Hugging Face.\")"
   ]
  },
  {
   "cell_type": "markdown",
   "id": "a4e61c00-1157-412f-a4d6-ee9c627383da",
   "metadata": {},
   "source": [
    "I had to use python 3.9 instead of 3.10 for this one."
   ]
  }
 ],
 "metadata": {
  "kernelspec": {
   "display_name": "Python 3 (ipykernel)",
   "language": "python",
   "name": "python3"
  },
  "language_info": {
   "codemirror_mode": {
    "name": "ipython",
    "version": 3
   },
   "file_extension": ".py",
   "mimetype": "text/x-python",
   "name": "python",
   "nbconvert_exporter": "python",
   "pygments_lexer": "ipython3",
   "version": "3.9.17"
  }
 },
 "nbformat": 4,
 "nbformat_minor": 5
}
