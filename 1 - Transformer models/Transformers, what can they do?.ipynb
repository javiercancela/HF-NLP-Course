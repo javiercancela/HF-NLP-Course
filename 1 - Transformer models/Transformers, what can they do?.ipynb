{
 "cells": [
  {
   "cell_type": "markdown",
   "id": "7f45c094-c420-4126-84db-f72ac2d139a1",
   "metadata": {
    "tags": []
   },
   "source": [
    "# First code\n",
    "We just use the [pipeline](https://huggingface.co/docs/transformers/v4.30.0/en/main_classes/pipelines#transformers.pipeline) object to classify a text as possitive or negative.\n",
    "There is a message warning that it will use a default model: [distilbert-base-uncased-finetuned-sst-2-english](https://huggingface.co/distilbert-base-uncased-finetuned-sst-2-english)"
   ]
  },
  {
   "cell_type": "code",
   "execution_count": 9,
   "id": "eeff4000-2b81-4628-9af7-96acd01f93f1",
   "metadata": {},
   "outputs": [
    {
     "name": "stderr",
     "output_type": "stream",
     "text": [
      "No model was supplied, defaulted to distilbert-base-uncased-finetuned-sst-2-english and revision af0f99b (https://huggingface.co/distilbert-base-uncased-finetuned-sst-2-english).\n",
      "Using a pipeline without specifying a model name and revision in production is not recommended.\n"
     ]
    },
    {
     "data": {
      "text/plain": [
       "[{'label': 'POSITIVE', 'score': 0.9598048329353333}]"
      ]
     },
     "execution_count": 9,
     "metadata": {},
     "output_type": "execute_result"
    }
   ],
   "source": [
    "from transformers import pipeline\n",
    "\n",
    "classifier = pipeline(\"sentiment-analysis\")\n",
    "classifier(\"I've been waiting for a HuggingFace course my whole life.\")"
   ]
  },
  {
   "cell_type": "markdown",
   "id": "d69f319a-07b0-4867-9db2-026abdfccb9a",
   "metadata": {},
   "source": [
    "## Different, more difficult text\n",
    "This one seems too difficult. The sentiment is not negative, but might be a little ambiguous. "
   ]
  },
  {
   "cell_type": "code",
   "execution_count": 10,
   "id": "3ec8e861-544b-4a64-9f0f-971231d4885d",
   "metadata": {},
   "outputs": [
    {
     "name": "stderr",
     "output_type": "stream",
     "text": [
      "No model was supplied, defaulted to distilbert-base-uncased-finetuned-sst-2-english and revision af0f99b (https://huggingface.co/distilbert-base-uncased-finetuned-sst-2-english).\n",
      "Using a pipeline without specifying a model name and revision in production is not recommended.\n"
     ]
    },
    {
     "data": {
      "text/plain": [
       "[{'label': 'NEGATIVE', 'score': 0.9991888403892517}]"
      ]
     },
     "execution_count": 10,
     "metadata": {},
     "output_type": "execute_result"
    }
   ],
   "source": [
    "classifier = pipeline(\"sentiment-analysis\")\n",
    "classifier(\"I would like to say this is bad, but I would be lying\")"
   ]
  },
  {
   "cell_type": "code",
   "execution_count": 11,
   "id": "6623e243-b425-4a49-b41f-8ead8379d20e",
   "metadata": {},
   "outputs": [
    {
     "name": "stderr",
     "output_type": "stream",
     "text": [
      "Downloading: 100%|██████████| 18.9k/18.9k [00:00<00:00, 2.52MB/s]\n"
     ]
    },
    {
     "data": {
      "text/plain": [
       "[{'label': 'NEGATIVE', 'score': 0.9991888403892517}]"
      ]
     },
     "execution_count": 11,
     "metadata": {},
     "output_type": "execute_result"
    }
   ],
   "source": [
    "classifier = pipeline(model=\"distilbert-base-uncased-finetuned-sst-2-english\")\n",
    "classifier(\"I would like to say this is bad, but I would be lying\")"
   ]
  }
 ],
 "metadata": {
  "kernelspec": {
   "display_name": "Python 3 (ipykernel)",
   "language": "python",
   "name": "python3"
  },
  "language_info": {
   "codemirror_mode": {
    "name": "ipython",
    "version": 3
   },
   "file_extension": ".py",
   "mimetype": "text/x-python",
   "name": "python",
   "nbconvert_exporter": "python",
   "pygments_lexer": "ipython3",
   "version": "3.10.9"
  }
 },
 "nbformat": 4,
 "nbformat_minor": 5
}
